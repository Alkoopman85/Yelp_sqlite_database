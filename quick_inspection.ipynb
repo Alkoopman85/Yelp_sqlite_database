{
 "cells": [
  {
   "cell_type": "code",
   "execution_count": 1,
   "metadata": {},
   "outputs": [],
   "source": [
    "import pandas as pd\n",
    "from scipy.stats import pearsonr\n",
    "import seaborn as sns\n",
    "import matplotlib.pyplot as plt\n",
    "import networkx as nx\n",
    "\n",
    "pd.set_option('display.max_columns', None)"
   ]
  },
  {
   "cell_type": "code",
   "execution_count": 2,
   "metadata": {},
   "outputs": [],
   "source": [
    "from database import YelpDataBase\n",
    "ydb = YelpDataBase()"
   ]
  },
  {
   "attachments": {},
   "cell_type": "markdown",
   "metadata": {},
   "source": [
    "What categories have the largest number of reviews and businesses associated with them. Note here that each review is about a business and each business can have multiple categories, thus reviews can cover multiple categories."
   ]
  },
  {
   "cell_type": "code",
   "execution_count": 3,
   "metadata": {},
   "outputs": [
    {
     "data": {
      "text/html": [
       "<div>\n",
       "<style scoped>\n",
       "    .dataframe tbody tr th:only-of-type {\n",
       "        vertical-align: middle;\n",
       "    }\n",
       "\n",
       "    .dataframe tbody tr th {\n",
       "        vertical-align: top;\n",
       "    }\n",
       "\n",
       "    .dataframe thead th {\n",
       "        text-align: right;\n",
       "    }\n",
       "</style>\n",
       "<table border=\"1\" class=\"dataframe\">\n",
       "  <thead>\n",
       "    <tr style=\"text-align: right;\">\n",
       "      <th></th>\n",
       "      <th>name</th>\n",
       "      <th>num_reviews</th>\n",
       "      <th>num_business</th>\n",
       "    </tr>\n",
       "  </thead>\n",
       "  <tbody>\n",
       "    <tr>\n",
       "      <th>0</th>\n",
       "      <td>Restaurants</td>\n",
       "      <td>4724471</td>\n",
       "      <td>52268</td>\n",
       "    </tr>\n",
       "    <tr>\n",
       "      <th>1</th>\n",
       "      <td>Food</td>\n",
       "      <td>1813593</td>\n",
       "      <td>27781</td>\n",
       "    </tr>\n",
       "    <tr>\n",
       "      <th>2</th>\n",
       "      <td>Nightlife</td>\n",
       "      <td>1539757</td>\n",
       "      <td>12281</td>\n",
       "    </tr>\n",
       "    <tr>\n",
       "      <th>3</th>\n",
       "      <td>Bars</td>\n",
       "      <td>1455553</td>\n",
       "      <td>11065</td>\n",
       "    </tr>\n",
       "    <tr>\n",
       "      <th>4</th>\n",
       "      <td>American (Traditional)</td>\n",
       "      <td>1011646</td>\n",
       "      <td>8139</td>\n",
       "    </tr>\n",
       "    <tr>\n",
       "      <th>5</th>\n",
       "      <td>American (New)</td>\n",
       "      <td>984540</td>\n",
       "      <td>6097</td>\n",
       "    </tr>\n",
       "    <tr>\n",
       "      <th>6</th>\n",
       "      <td>Breakfast &amp; Brunch</td>\n",
       "      <td>867430</td>\n",
       "      <td>6239</td>\n",
       "    </tr>\n",
       "    <tr>\n",
       "      <th>7</th>\n",
       "      <td>Sandwiches</td>\n",
       "      <td>691864</td>\n",
       "      <td>8366</td>\n",
       "    </tr>\n",
       "    <tr>\n",
       "      <th>8</th>\n",
       "      <td>Seafood</td>\n",
       "      <td>620247</td>\n",
       "      <td>3539</td>\n",
       "    </tr>\n",
       "    <tr>\n",
       "      <th>9</th>\n",
       "      <td>Event Planning &amp; Services</td>\n",
       "      <td>609553</td>\n",
       "      <td>9895</td>\n",
       "    </tr>\n",
       "    <tr>\n",
       "      <th>10</th>\n",
       "      <td>Shopping</td>\n",
       "      <td>523254</td>\n",
       "      <td>24395</td>\n",
       "    </tr>\n",
       "    <tr>\n",
       "      <th>11</th>\n",
       "      <td>Pizza</td>\n",
       "      <td>475819</td>\n",
       "      <td>7093</td>\n",
       "    </tr>\n",
       "    <tr>\n",
       "      <th>12</th>\n",
       "      <td>Burgers</td>\n",
       "      <td>445895</td>\n",
       "      <td>5636</td>\n",
       "    </tr>\n",
       "    <tr>\n",
       "      <th>13</th>\n",
       "      <td>Coffee &amp; Tea</td>\n",
       "      <td>442348</td>\n",
       "      <td>6703</td>\n",
       "    </tr>\n",
       "    <tr>\n",
       "      <th>14</th>\n",
       "      <td>Italian</td>\n",
       "      <td>439358</td>\n",
       "      <td>4573</td>\n",
       "    </tr>\n",
       "    <tr>\n",
       "      <th>15</th>\n",
       "      <td>Mexican</td>\n",
       "      <td>431020</td>\n",
       "      <td>4600</td>\n",
       "    </tr>\n",
       "    <tr>\n",
       "      <th>16</th>\n",
       "      <td>Beauty &amp; Spas</td>\n",
       "      <td>370121</td>\n",
       "      <td>14292</td>\n",
       "    </tr>\n",
       "    <tr>\n",
       "      <th>17</th>\n",
       "      <td>Arts &amp; Entertainment</td>\n",
       "      <td>345059</td>\n",
       "      <td>5434</td>\n",
       "    </tr>\n",
       "    <tr>\n",
       "      <th>18</th>\n",
       "      <td>Cocktail Bars</td>\n",
       "      <td>339102</td>\n",
       "      <td>1718</td>\n",
       "    </tr>\n",
       "    <tr>\n",
       "      <th>19</th>\n",
       "      <td>Salad</td>\n",
       "      <td>333444</td>\n",
       "      <td>3064</td>\n",
       "    </tr>\n",
       "  </tbody>\n",
       "</table>\n",
       "</div>"
      ],
      "text/plain": [
       "                         name  num_reviews  num_business\n",
       "0                 Restaurants      4724471         52268\n",
       "1                        Food      1813593         27781\n",
       "2                   Nightlife      1539757         12281\n",
       "3                        Bars      1455553         11065\n",
       "4      American (Traditional)      1011646          8139\n",
       "5              American (New)       984540          6097\n",
       "6          Breakfast & Brunch       867430          6239\n",
       "7                  Sandwiches       691864          8366\n",
       "8                     Seafood       620247          3539\n",
       "9   Event Planning & Services       609553          9895\n",
       "10                   Shopping       523254         24395\n",
       "11                      Pizza       475819          7093\n",
       "12                    Burgers       445895          5636\n",
       "13               Coffee & Tea       442348          6703\n",
       "14                    Italian       439358          4573\n",
       "15                    Mexican       431020          4600\n",
       "16              Beauty & Spas       370121         14292\n",
       "17       Arts & Entertainment       345059          5434\n",
       "18              Cocktail Bars       339102          1718\n",
       "19                      Salad       333444          3064"
      ]
     },
     "execution_count": 3,
     "metadata": {},
     "output_type": "execute_result"
    }
   ],
   "source": [
    "statement = \"\"\"SELECT category.name, COUNT(reviews.id) AS num_reviews, COUNT(DISTINCT business.id) AS num_business\n",
    "                FROM reviews JOIN business ON reviews.business_id  == business.id\n",
    "                JOIN category_business ON business.id == category_business.business_id\n",
    "                JOIN category ON category_business.category_id == category.id\n",
    "                GROUP BY category.name ORDER BY num_reviews DESC LIMIT 20\"\"\"\n",
    "ydb.execute_sql_statement(statement, as_frame=True)"
   ]
  },
  {
   "attachments": {},
   "cell_type": "markdown",
   "metadata": {},
   "source": [
    "Is there a correlation between the number of reviews a user posts and the number of fans they have"
   ]
  },
  {
   "cell_type": "code",
   "execution_count": 4,
   "metadata": {},
   "outputs": [],
   "source": [
    "statement = \"\"\"SELECT review_count, fans \n",
    "                FROM users\n",
    "                WHERE review_count NOT NULL AND fans NOT NULL\"\"\"\n",
    "review_fans = ydb.execute_sql_statement(statement, as_frame=True)"
   ]
  },
  {
   "cell_type": "code",
   "execution_count": 5,
   "metadata": {},
   "outputs": [
    {
     "name": "stdout",
     "output_type": "stream",
     "text": [
      "(1987897, 2)\n"
     ]
    },
    {
     "data": {
      "text/html": [
       "<div>\n",
       "<style scoped>\n",
       "    .dataframe tbody tr th:only-of-type {\n",
       "        vertical-align: middle;\n",
       "    }\n",
       "\n",
       "    .dataframe tbody tr th {\n",
       "        vertical-align: top;\n",
       "    }\n",
       "\n",
       "    .dataframe thead th {\n",
       "        text-align: right;\n",
       "    }\n",
       "</style>\n",
       "<table border=\"1\" class=\"dataframe\">\n",
       "  <thead>\n",
       "    <tr style=\"text-align: right;\">\n",
       "      <th></th>\n",
       "      <th>review_count</th>\n",
       "      <th>fans</th>\n",
       "    </tr>\n",
       "  </thead>\n",
       "  <tbody>\n",
       "    <tr>\n",
       "      <th>417303</th>\n",
       "      <td>31</td>\n",
       "      <td>0</td>\n",
       "    </tr>\n",
       "    <tr>\n",
       "      <th>787423</th>\n",
       "      <td>5</td>\n",
       "      <td>0</td>\n",
       "    </tr>\n",
       "    <tr>\n",
       "      <th>1136051</th>\n",
       "      <td>2</td>\n",
       "      <td>0</td>\n",
       "    </tr>\n",
       "    <tr>\n",
       "      <th>1546116</th>\n",
       "      <td>1</td>\n",
       "      <td>0</td>\n",
       "    </tr>\n",
       "    <tr>\n",
       "      <th>89511</th>\n",
       "      <td>20</td>\n",
       "      <td>2</td>\n",
       "    </tr>\n",
       "    <tr>\n",
       "      <th>217538</th>\n",
       "      <td>16</td>\n",
       "      <td>0</td>\n",
       "    </tr>\n",
       "    <tr>\n",
       "      <th>1627882</th>\n",
       "      <td>6</td>\n",
       "      <td>0</td>\n",
       "    </tr>\n",
       "    <tr>\n",
       "      <th>617391</th>\n",
       "      <td>1</td>\n",
       "      <td>0</td>\n",
       "    </tr>\n",
       "    <tr>\n",
       "      <th>743128</th>\n",
       "      <td>9</td>\n",
       "      <td>0</td>\n",
       "    </tr>\n",
       "    <tr>\n",
       "      <th>408253</th>\n",
       "      <td>65</td>\n",
       "      <td>2</td>\n",
       "    </tr>\n",
       "  </tbody>\n",
       "</table>\n",
       "</div>"
      ],
      "text/plain": [
       "         review_count  fans\n",
       "417303             31     0\n",
       "787423              5     0\n",
       "1136051             2     0\n",
       "1546116             1     0\n",
       "89511              20     2\n",
       "217538             16     0\n",
       "1627882             6     0\n",
       "617391              1     0\n",
       "743128              9     0\n",
       "408253             65     2"
      ]
     },
     "execution_count": 5,
     "metadata": {},
     "output_type": "execute_result"
    }
   ],
   "source": [
    "print(review_fans.shape)\n",
    "review_fans.sample(10)"
   ]
  },
  {
   "cell_type": "code",
   "execution_count": 6,
   "metadata": {},
   "outputs": [],
   "source": [
    "# we want to look at the correlation between review_count and fans both visually and with the pearson r value.\n",
    "# to visualize this relationship we will take a random sample of 10000 users as we dont want to plot all 1.9 million\n",
    "samp_review_fans = review_fans.sample(10000)"
   ]
  },
  {
   "cell_type": "code",
   "execution_count": 7,
   "metadata": {},
   "outputs": [
    {
     "data": {
      "image/png": "[encoded data removed]",
      "text/plain": [
       "<Figure size 640x480 with 1 Axes>"
      ]
     },
     "metadata": {},
     "output_type": "display_data"
    }
   ],
   "source": [
    "pr = pearsonr(review_fans['review_count'], review_fans['fans'])\n",
    "ax = sns.scatterplot(data=samp_review_fans, x='review_count', y='fans')\n",
    "ax.set_title(f'Sample of 10,000 users reviews vs fans\\nfull data $r^2$ = {pr[0]:.4f}')\n",
    "plt.show()"
   ]
  },
  {
   "attachments": {},
   "cell_type": "markdown",
   "metadata": {},
   "source": [
    "users with most elite years"
   ]
  },
  {
   "cell_type": "code",
   "execution_count": 8,
   "metadata": {},
   "outputs": [
    {
     "data": {
      "text/html": [
       "<div>\n",
       "<style scoped>\n",
       "    .dataframe tbody tr th:only-of-type {\n",
       "        vertical-align: middle;\n",
       "    }\n",
       "\n",
       "    .dataframe tbody tr th {\n",
       "        vertical-align: top;\n",
       "    }\n",
       "\n",
       "    .dataframe thead th {\n",
       "        text-align: right;\n",
       "    }\n",
       "</style>\n",
       "<table border=\"1\" class=\"dataframe\">\n",
       "  <thead>\n",
       "    <tr style=\"text-align: right;\">\n",
       "      <th></th>\n",
       "      <th>name</th>\n",
       "      <th>years_elite</th>\n",
       "    </tr>\n",
       "  </thead>\n",
       "  <tbody>\n",
       "    <tr>\n",
       "      <th>0</th>\n",
       "      <td>Sarah</td>\n",
       "      <td>16</td>\n",
       "    </tr>\n",
       "    <tr>\n",
       "      <th>1</th>\n",
       "      <td>Joc</td>\n",
       "      <td>16</td>\n",
       "    </tr>\n",
       "    <tr>\n",
       "      <th>2</th>\n",
       "      <td>Wendy</td>\n",
       "      <td>16</td>\n",
       "    </tr>\n",
       "    <tr>\n",
       "      <th>3</th>\n",
       "      <td>Jeff</td>\n",
       "      <td>16</td>\n",
       "    </tr>\n",
       "    <tr>\n",
       "      <th>4</th>\n",
       "      <td>Megan</td>\n",
       "      <td>16</td>\n",
       "    </tr>\n",
       "  </tbody>\n",
       "</table>\n",
       "</div>"
      ],
      "text/plain": [
       "    name  years_elite\n",
       "0  Sarah           16\n",
       "1    Joc           16\n",
       "2  Wendy           16\n",
       "3   Jeff           16\n",
       "4  Megan           16"
      ]
     },
     "execution_count": 8,
     "metadata": {},
     "output_type": "execute_result"
    }
   ],
   "source": [
    "statement = \"\"\"SELECT users.name, COUNT(elite.year) AS years_elite\n",
    "                FROM users JOIN elite ON users.id = elite.user_id\n",
    "                GROUP BY users.id ORDER BY years_elite DESC LIMIT 5\"\"\"\n",
    "ydb.execute_sql_statement(statement, as_frame=True)"
   ]
  },
  {
   "attachments": {},
   "cell_type": "markdown",
   "metadata": {},
   "source": [
    "states with the highest average number of stars"
   ]
  },
  {
   "cell_type": "code",
   "execution_count": 9,
   "metadata": {},
   "outputs": [
    {
     "data": {
      "text/html": [
       "<div>\n",
       "<style scoped>\n",
       "    .dataframe tbody tr th:only-of-type {\n",
       "        vertical-align: middle;\n",
       "    }\n",
       "\n",
       "    .dataframe tbody tr th {\n",
       "        vertical-align: top;\n",
       "    }\n",
       "\n",
       "    .dataframe thead th {\n",
       "        text-align: right;\n",
       "    }\n",
       "</style>\n",
       "<table border=\"1\" class=\"dataframe\">\n",
       "  <thead>\n",
       "    <tr style=\"text-align: right;\">\n",
       "      <th></th>\n",
       "      <th>state</th>\n",
       "      <th>stars</th>\n",
       "      <th>num_reviews</th>\n",
       "    </tr>\n",
       "  </thead>\n",
       "  <tbody>\n",
       "    <tr>\n",
       "      <th>0</th>\n",
       "      <td>MT</td>\n",
       "      <td>5.0</td>\n",
       "      <td>6</td>\n",
       "    </tr>\n",
       "    <tr>\n",
       "      <th>1</th>\n",
       "      <td>VT</td>\n",
       "      <td>4.5</td>\n",
       "      <td>10</td>\n",
       "    </tr>\n",
       "    <tr>\n",
       "      <th>2</th>\n",
       "      <td>UT</td>\n",
       "      <td>4.5</td>\n",
       "      <td>19</td>\n",
       "    </tr>\n",
       "    <tr>\n",
       "      <th>3</th>\n",
       "      <td>SD</td>\n",
       "      <td>4.5</td>\n",
       "      <td>42</td>\n",
       "    </tr>\n",
       "    <tr>\n",
       "      <th>4</th>\n",
       "      <td>IL</td>\n",
       "      <td>4.5</td>\n",
       "      <td>51832</td>\n",
       "    </tr>\n",
       "    <tr>\n",
       "      <th>5</th>\n",
       "      <td>DE</td>\n",
       "      <td>4.5</td>\n",
       "      <td>70302</td>\n",
       "    </tr>\n",
       "    <tr>\n",
       "      <th>6</th>\n",
       "      <td>CA</td>\n",
       "      <td>4.5</td>\n",
       "      <td>348856</td>\n",
       "    </tr>\n",
       "    <tr>\n",
       "      <th>7</th>\n",
       "      <td>XMS</td>\n",
       "      <td>4.0</td>\n",
       "      <td>5</td>\n",
       "    </tr>\n",
       "    <tr>\n",
       "      <th>8</th>\n",
       "      <td>TN</td>\n",
       "      <td>4.0</td>\n",
       "      <td>614388</td>\n",
       "    </tr>\n",
       "    <tr>\n",
       "      <th>9</th>\n",
       "      <td>NJ</td>\n",
       "      <td>4.0</td>\n",
       "      <td>260897</td>\n",
       "    </tr>\n",
       "  </tbody>\n",
       "</table>\n",
       "</div>"
      ],
      "text/plain": [
       "  state  stars  num_reviews\n",
       "0    MT    5.0            6\n",
       "1    VT    4.5           10\n",
       "2    UT    4.5           19\n",
       "3    SD    4.5           42\n",
       "4    IL    4.5        51832\n",
       "5    DE    4.5        70302\n",
       "6    CA    4.5       348856\n",
       "7   XMS    4.0            5\n",
       "8    TN    4.0       614388\n",
       "9    NJ    4.0       260897"
      ]
     },
     "execution_count": 9,
     "metadata": {},
     "output_type": "execute_result"
    }
   ],
   "source": [
    "statement = \"\"\"SELECT business.state, business.stars, COUNT(DISTINCT reviews.id) as num_reviews\n",
    "                FROM business JOIN reviews on business.id = reviews.business_id\n",
    "                GROUP BY business.state\n",
    "                ORDER BY business.stars DESC LIMIT 10\"\"\"\n",
    "ydb.execute_sql_statement(statement, as_frame=True)"
   ]
  },
  {
   "attachments": {},
   "cell_type": "markdown",
   "metadata": {},
   "source": [
    "network analysis"
   ]
  },
  {
   "cell_type": "code",
   "execution_count": 10,
   "metadata": {},
   "outputs": [],
   "source": [
    "statement = \"\"\"SELECT users.id, users.name, users.review_count, users.average_stars, friends.user2_id AS friends\n",
    "                FROM users JOIN friends on users.id = friends.user1_id\"\"\"\n",
    "network_data = ydb.execute_sql_statement(statement, as_frame=True)"
   ]
  },
  {
   "cell_type": "code",
   "execution_count": 11,
   "metadata": {},
   "outputs": [
    {
     "name": "stdout",
     "output_type": "stream",
     "text": [
      "Network Data Shape:  (14611748, 5)\n"
     ]
    },
    {
     "data": {
      "text/html": [
       "<div>\n",
       "<style scoped>\n",
       "    .dataframe tbody tr th:only-of-type {\n",
       "        vertical-align: middle;\n",
       "    }\n",
       "\n",
       "    .dataframe tbody tr th {\n",
       "        vertical-align: top;\n",
       "    }\n",
       "\n",
       "    .dataframe thead th {\n",
       "        text-align: right;\n",
       "    }\n",
       "</style>\n",
       "<table border=\"1\" class=\"dataframe\">\n",
       "  <thead>\n",
       "    <tr style=\"text-align: right;\">\n",
       "      <th></th>\n",
       "      <th>id</th>\n",
       "      <th>name</th>\n",
       "      <th>review_count</th>\n",
       "      <th>average_stars</th>\n",
       "      <th>friends</th>\n",
       "    </tr>\n",
       "  </thead>\n",
       "  <tbody>\n",
       "    <tr>\n",
       "      <th>4639047</th>\n",
       "      <td>234032</td>\n",
       "      <td>Nina</td>\n",
       "      <td>356</td>\n",
       "      <td>4.32</td>\n",
       "      <td>285424</td>\n",
       "    </tr>\n",
       "    <tr>\n",
       "      <th>4295962</th>\n",
       "      <td>223324</td>\n",
       "      <td>Jim</td>\n",
       "      <td>315</td>\n",
       "      <td>3.80</td>\n",
       "      <td>263722</td>\n",
       "    </tr>\n",
       "    <tr>\n",
       "      <th>12942580</th>\n",
       "      <td>1595433</td>\n",
       "      <td>Diana</td>\n",
       "      <td>48</td>\n",
       "      <td>3.33</td>\n",
       "      <td>1284311</td>\n",
       "    </tr>\n",
       "    <tr>\n",
       "      <th>7734239</th>\n",
       "      <td>627434</td>\n",
       "      <td>Ashley</td>\n",
       "      <td>2</td>\n",
       "      <td>2.33</td>\n",
       "      <td>502119</td>\n",
       "    </tr>\n",
       "    <tr>\n",
       "      <th>6750318</th>\n",
       "      <td>468020</td>\n",
       "      <td>Paige</td>\n",
       "      <td>423</td>\n",
       "      <td>3.77</td>\n",
       "      <td>29661</td>\n",
       "    </tr>\n",
       "    <tr>\n",
       "      <th>8026023</th>\n",
       "      <td>645194</td>\n",
       "      <td>Jane</td>\n",
       "      <td>3</td>\n",
       "      <td>4.33</td>\n",
       "      <td>46802</td>\n",
       "    </tr>\n",
       "    <tr>\n",
       "      <th>10829002</th>\n",
       "      <td>1193562</td>\n",
       "      <td>Ken</td>\n",
       "      <td>4</td>\n",
       "      <td>4.50</td>\n",
       "      <td>1274241</td>\n",
       "    </tr>\n",
       "    <tr>\n",
       "      <th>3456513</th>\n",
       "      <td>201845</td>\n",
       "      <td>Matteo</td>\n",
       "      <td>762</td>\n",
       "      <td>3.62</td>\n",
       "      <td>7571</td>\n",
       "    </tr>\n",
       "    <tr>\n",
       "      <th>7822569</th>\n",
       "      <td>632453</td>\n",
       "      <td>Jessica</td>\n",
       "      <td>127</td>\n",
       "      <td>3.92</td>\n",
       "      <td>1591981</td>\n",
       "    </tr>\n",
       "    <tr>\n",
       "      <th>7120725</th>\n",
       "      <td>598393</td>\n",
       "      <td>Mad</td>\n",
       "      <td>116</td>\n",
       "      <td>4.10</td>\n",
       "      <td>41897</td>\n",
       "    </tr>\n",
       "  </tbody>\n",
       "</table>\n",
       "</div>"
      ],
      "text/plain": [
       "               id     name  review_count  average_stars  friends\n",
       "4639047    234032     Nina           356           4.32   285424\n",
       "4295962    223324      Jim           315           3.80   263722\n",
       "12942580  1595433    Diana            48           3.33  1284311\n",
       "7734239    627434   Ashley             2           2.33   502119\n",
       "6750318    468020    Paige           423           3.77    29661\n",
       "8026023    645194     Jane             3           4.33    46802\n",
       "10829002  1193562      Ken             4           4.50  1274241\n",
       "3456513    201845   Matteo           762           3.62     7571\n",
       "7822569    632453  Jessica           127           3.92  1591981\n",
       "7120725    598393      Mad           116           4.10    41897"
      ]
     },
     "execution_count": 11,
     "metadata": {},
     "output_type": "execute_result"
    }
   ],
   "source": [
    "print('Network Data Shape: ', network_data.shape)\n",
    "network_data.sample(10)"
   ]
  },
  {
   "cell_type": "code",
   "execution_count": 12,
   "metadata": {},
   "outputs": [],
   "source": [
    "def build_node_list(df):\n",
    "    node_list = []\n",
    "    for node in df[['id', 'name', 'review_count', 'average_stars']].drop_duplicates().itertuples(index=False):\n",
    "        user_node_id = node.id\n",
    "        node_attributes = {'name': node.name, 'review_count': node.review_count, 'average_stars': node.average_stars}\n",
    "        node_ = (user_node_id, node_attributes)\n",
    "        node_list.append(node_)\n",
    "    return node_list\n",
    "\n",
    "def build_edge_list(df):\n",
    "    edge_list = [(node.id, node.friends) for node in df[['id', 'friends']].itertuples()]\n",
    "    return edge_list"
   ]
  },
  {
   "cell_type": "code",
   "execution_count": 13,
   "metadata": {},
   "outputs": [],
   "source": [
    "def build_save_graph(df, path:str):\n",
    "    graph = nx.Graph()\n",
    "    graph.add_nodes_from(build_node_list(df))\n",
    "    graph.add_edges_from(build_edge_list(df))\n",
    "    nx.write_graphml_lxml(graph, path)\n",
    "    return graph\n",
    "\n",
    "def load_graph(path:str):\n",
    "    graph = nx.read_graphml(path)\n",
    "    return graph"
   ]
  },
  {
   "cell_type": "code",
   "execution_count": 14,
   "metadata": {},
   "outputs": [],
   "source": [
    "graph_path = 'data/user_friend_graph.graphml'\n",
    "\n",
    "user_graph = build_save_graph(network_data, graph_path)\n",
    "# user_graph = load_graph(graph_path)"
   ]
  },
  {
   "cell_type": "code",
   "execution_count": 15,
   "metadata": {},
   "outputs": [
    {
     "name": "stdout",
     "output_type": "stream",
     "text": [
      "Max Degree: 6869\n"
     ]
    }
   ],
   "source": [
    "deg_hist = nx.degree_histogram(user_graph)\n",
    "print('Max Degree:', len(deg_hist))"
   ]
  },
  {
   "cell_type": "code",
   "execution_count": 22,
   "metadata": {},
   "outputs": [
    {
     "data": {
      "text/plain": [
       "Text(0.5, 0, 'degree')"
      ]
     },
     "execution_count": 22,
     "metadata": {},
     "output_type": "execute_result"
    },
    {
     "data": {
      "image/png": "[encoded data removed]",
      "text/plain": [
       "<Figure size 1000x500 with 1 Axes>"
      ]
     },
     "metadata": {},
     "output_type": "display_data"
    }
   ],
   "source": [
    "show_max = 40\n",
    "fig, ax = plt.subplots(figsize=(10, 5))\n",
    "sns.barplot(x=list(range(len(deg_hist[:show_max + 1]))), y=deg_hist[:show_max + 1], color='lightblue', ax=ax)\n",
    "ax.set_title('Graph Degree Distribution')\n",
    "ax.set_ylabel('count')\n",
    "ax.set_xlabel('degree')"
   ]
  },
  {
   "cell_type": "code",
   "execution_count": 17,
   "metadata": {},
   "outputs": [],
   "source": [
    "def show_component_stats_get_largest(graph, show_largest:int=10):\n",
    "    sorted_components = sorted(nx.connected_components(graph), key=len, reverse=True)\n",
    "    components_sizes = [len(comp) for comp in sorted_components]\n",
    "\n",
    "    print('Number of connected components     : ', len(sorted_components))\n",
    "    print(f'Top {show_largest} largest connected components: ', ', '.join([str(num) for num in components_sizes[:show_largest]]))\n",
    "\n",
    "    sub_graph = nx.subgraph(user_graph, sorted_components[0])\n",
    "    return sub_graph"
   ]
  },
  {
   "cell_type": "code",
   "execution_count": 18,
   "metadata": {},
   "outputs": [
    {
     "name": "stdout",
     "output_type": "stream",
     "text": [
      "Number of connected components     :  6711\n",
      "Top 10 largest connected components:  892152, 7, 6, 6, 5, 5, 5, 5, 5, 5\n"
     ]
    }
   ],
   "source": [
    "largest_connected_component = show_component_stats_get_largest(user_graph)"
   ]
  },
  {
   "attachments": {},
   "cell_type": "markdown",
   "metadata": {},
   "source": [
    "Degree Centrality: \"The degree centrality for a node v is the fraction of nodes it is connected to.\" https://networkx.org/documentation/stable/reference/algorithms/generated/networkx.algorithms.centrality.degree_centrality.html#networkx.algorithms.centrality.degree_centrality<br>"
   ]
  },
  {
   "cell_type": "code",
   "execution_count": 19,
   "metadata": {},
   "outputs": [
    {
     "name": "stdout",
     "output_type": "stream",
     "text": [
      "Node with largest degree centrality: 2363, user name: Steven, review count: 1371, average rating: 3.62, degree centrality: 0.007579084903848913\n"
     ]
    }
   ],
   "source": [
    "dcnode, dcentrality = max(nx.degree_centrality(user_graph).items(), key=lambda x: x[1])\n",
    "name, review_count, stars = user_graph.nodes[dcnode]['name'], user_graph.nodes[dcnode]['review_count'], user_graph.nodes[dcnode]['average_stars']\n",
    "print(f\"Node with largest degree centrality: {dcnode}, user name: {name}, review count: {review_count}, average rating: {stars}, degree centrality: {dcentrality}\")"
   ]
  },
  {
   "cell_type": "code",
   "execution_count": null,
   "metadata": {},
   "outputs": [],
   "source": []
  }
 ],
 "metadata": {
  "kernelspec": {
   "display_name": "topic_analysis",
   "language": "python",
   "name": "python3"
  },
  "language_info": {
   "codemirror_mode": {
    "name": "ipython",
    "version": 3
   },
   "file_extension": ".py",
   "mimetype": "text/x-python",
   "name": "python",
   "nbconvert_exporter": "python",
   "pygments_lexer": "ipython3",
   "version": "3.10.9"
  },
  "orig_nbformat": 4,
  "vscode": {
   "interpreter": {
    "hash": "b6debd3c00a13f0cdca10a7f42a7ad152af2f9edf5d972a4720007e201fff9f6"
   }
  }
 },
 "nbformat": 4,
 "nbformat_minor": 2
}
